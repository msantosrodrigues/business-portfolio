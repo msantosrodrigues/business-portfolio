{
 "cells": [
  {
   "cell_type": "markdown",
   "metadata": {},
   "source": [
    "### 1. Preparando e limpando os dados"
   ]
  },
  {
   "cell_type": "markdown",
   "metadata": {},
   "source": [
    "Preparando o ambiente com as bibliotecas necessárias."
   ]
  },
  {
   "cell_type": "code",
   "execution_count": null,
   "metadata": {},
   "outputs": [],
   "source": [
    "import pandas as pd\n",
    "import numpy as np\n",
    "import matplotlib.pyplot as plt\n",
    "import seaborn as sns\n",
    "import json\n",
    "from datetime import datetime"
   ]
  },
  {
   "cell_type": "markdown",
   "metadata": {},
   "source": [
    "Para garantir que os arquivos .csv estão corretos, eu fiz uma alteração direta nos arquivos, mudando o separador para vírgula para garantir que as colunas fossem separadas corretamente."
   ]
  },
  {
   "cell_type": "code",
   "execution_count": null,
   "metadata": {},
   "outputs": [],
   "source": [
    "customers = \"customers.csv\"\n",
    "orders = \"orders.csv\"\n",
    "\n",
    "customers_df = pd.read_csv(customers)\n",
    "orders_df = pd.read_csv(orders)"
   ]
  },
  {
   "cell_type": "code",
   "execution_count": null,
   "metadata": {},
   "outputs": [],
   "source": [
    "\n",
    "print(\"Customers dataframe info:\")\n",
    "print(customers_df.info())\n",
    "print(\"\\n\")\n",
    "print(\"Orders dataframe info:\")\n",
    "print(orders_df.info())\n",
    "print(\"\\n\")\n",
    "\n",
    "print(\"First 5 rows of customers:\")\n",
    "display(customers_df.head())\n",
    "print(\"\\n\")\n",
    "print(\"First 5 rows of orders:\")\n",
    "display(orders_df.head())"
   ]
  },
  {
   "cell_type": "markdown",
   "metadata": {},
   "source": [
    "Tendo a certeza de que a database está devidamente carregada, vamos ver algumas estatísticas como médias, mediana, desvio padrão, etc., para entender melhor os dados e, se necessário, limpar os outliers ou dados inválidos. \n",
    "\n",
    "Também é interessante plotar para entender a distribuição e se será necessário aplicar alguma transformação.\n",
    "\n",
    "Os percentis serão calculados aqui, com o método .describe()."
   ]
  },
  {
   "cell_type": "code",
   "execution_count": null,
   "metadata": {},
   "outputs": [],
   "source": [
    "print(\"Statistical info about orders:\")\n",
    "#Os percentis estão calculados aqui.\n",
    "print(orders_df.describe())\n",
    "print(\"\\n\")\n",
    "\n",
    "# Plot da distribuição das quantidades.\n",
    "plt.figure(figsize=(12, 6))\n",
    "plt.subplot(1, 2, 1)\n",
    "sns.histplot(data=orders_df, x='quantity', kde=True, bins=range(1, int(orders_df['quantity'].max())+2))\n",
    "plt.title('Distribution of order quantities')\n",
    "plt.xlabel('Quantity')\n",
    "plt.ylabel('Frequency')\n",
    "plt.xticks(range(1, int(orders_df['quantity'].max())+1))\n",
    "\n",
    "# Plot da distribuição de preços.\n",
    "plt.subplot(1, 2, 2)\n",
    "sns.histplot(data=orders_df, x='price', kde=True)\n",
    "plt.title('Distribution of order prices')\n",
    "plt.xlabel('Price')\n",
    "plt.ylabel('Frequency')\n",
    "\n",
    "plt.tight_layout()\n",
    "plt.show()"
   ]
  },
  {
   "cell_type": "markdown",
   "metadata": {},
   "source": [
    "### 2. Números e dados"
   ]
  },
  {
   "cell_type": "markdown",
   "metadata": {},
   "source": [
    "Receita por país e receita total."
   ]
  },
  {
   "cell_type": "code",
   "execution_count": null,
   "metadata": {},
   "outputs": [],
   "source": [
    "revenue_by_country = orders_df.merge(customers_df, on='customer_id', how='left')\n",
    "\n",
    "revenue_by_country = revenue_by_country.groupby('country')['price'].sum().reset_index()\n",
    "revenue_by_country = revenue_by_country.sort_values('price', ascending=False)\n",
    "\n",
    "print(revenue_by_country)\n",
    "\n",
    "total_revenue = revenue_by_country['price'].sum()\n",
    "print(f\"\\nReceita total: ${total_revenue:,.2f}\")"
   ]
  },
  {
   "cell_type": "markdown",
   "metadata": {},
   "source": [
    "Valor médio de pedido, também dividido por país."
   ]
  },
  {
   "cell_type": "code",
   "execution_count": null,
   "metadata": {},
   "outputs": [],
   "source": [
    "avg_order_value = orders_df.merge(customers_df, on='customer_id', how='left')\n",
    "avg_order_value = avg_order_value.groupby('country')['price'].mean().reset_index()\n",
    "avg_order_value = avg_order_value.sort_values('price', ascending=False)\n",
    "\n",
    "print(avg_order_value)\n",
    "\n",
    "overall_avg = avg_order_value['price'].mean()\n",
    "print(f\"\\nValor médio de uma order: ${overall_avg:,.2f}\")"
   ]
  },
  {
   "cell_type": "markdown",
   "metadata": {},
   "source": [
    "Pedidos por país e pedidos totais."
   ]
  },
  {
   "cell_type": "code",
   "execution_count": null,
   "metadata": {},
   "outputs": [],
   "source": [
    "orders_per_country = orders_df.merge(customers_df, on='customer_id', how='left')\n",
    "orders_per_country = orders_per_country.groupby('country').size().reset_index(name='number_of_orders')\n",
    "orders_per_country = orders_per_country.sort_values('number_of_orders', ascending=False)\n",
    "\n",
    "print(orders_per_country)\n",
    "\n",
    "total_orders = orders_per_country['number_of_orders'].sum()\n",
    "print(f\"\\nTotal de orders: {total_orders}\")"
   ]
  },
  {
   "cell_type": "markdown",
   "metadata": {},
   "source": [
    "Top-5 produtos por receita."
   ]
  },
  {
   "cell_type": "code",
   "execution_count": null,
   "metadata": {},
   "outputs": [],
   "source": [
    "product_revenue = orders_df.groupby('product_id')['price'].sum().reset_index()\n",
    "product_revenue = product_revenue.sort_values('price', ascending=False)\n",
    "\n",
    "top_5_products = product_revenue.head(5)\n",
    "\n",
    "print(top_5_products)"
   ]
  },
  {
   "cell_type": "markdown",
   "metadata": {},
   "source": [
    "Top-3 clientes por receita."
   ]
  },
  {
   "cell_type": "code",
   "execution_count": null,
   "metadata": {},
   "outputs": [],
   "source": [
    "customer_revenue = orders_df.groupby('customer_id')['price'].sum().reset_index()\n",
    "customer_revenue = customer_revenue.sort_values('price', ascending=False)\n",
    "\n",
    "top_3_customers = customer_revenue.head(3)\n",
    "top_3_customers = top_3_customers.merge(customers_df.drop_duplicates(subset='customer_id'),  on='customer_id', how='left')\n",
    "\n",
    "print(top_3_customers[['customer_id', 'name', 'email', 'price']])"
   ]
  },
  {
   "cell_type": "markdown",
   "metadata": {},
   "source": [
    "### 3. Armazenamento e finalização do arquivo"
   ]
  },
  {
   "cell_type": "code",
   "execution_count": null,
   "metadata": {},
   "outputs": [],
   "source": [
    "analysis_results = {}\n",
    "\n",
    "analysis_results['revenue_analysis'] = {\n",
    "    'by_country': revenue_by_country.to_dict('records'),\n",
    "    'total_revenue': float(round(total_revenue, 2))\n",
    "}\n",
    "\n",
    "analysis_results['average_order_value'] = {\n",
    "    'by_country': avg_order_value.round(2).to_dict('records'),\n",
    "    'overall_average': float(round(overall_avg, 2))\n",
    "}\n",
    "\n",
    "analysis_results['order_analysis'] = {\n",
    "    'orders_by_country': orders_per_country.to_dict('records'),\n",
    "    'total_orders': int(total_orders)\n",
    "}\n",
    "\n",
    "analysis_results['product_analysis'] = {\n",
    "    'top_products': top_5_products.round(2).to_dict('records')\n",
    "}\n",
    "\n",
    "analysis_results['customer_analysis'] = {\n",
    "    'top_customers': top_3_customers[['customer_id', 'name', 'email', 'price']].round(2).to_dict('records')\n",
    "}\n",
    "\n",
    "import json\n",
    "print(json.dumps(analysis_results, indent=2))\n"
   ]
  },
  {
   "cell_type": "code",
   "execution_count": null,
   "metadata": {},
   "outputs": [],
   "source": [
    "def flatten_dict(d, parent_key='', sep='_'):\n",
    "    items = []\n",
    "    for k, v in d.items():\n",
    "        new_key = f\"{parent_key}{sep}{k}\" if parent_key else k\n",
    "        if isinstance(v, dict):\n",
    "            items.extend(flatten_dict(v, new_key, sep=sep).items())\n",
    "        elif isinstance(v, list):\n",
    "\n",
    "            if v and isinstance(v[0], dict):\n",
    "                items.append((new_key, json.dumps(v)))\n",
    "            else:\n",
    "                items.append((new_key, str(v)))\n",
    "        else:\n",
    "            items.append((new_key, v))\n",
    "    return dict(items)\n",
    "\n",
    "flattened_data = flatten_dict(analysis_results)\n",
    "\n",
    "current_time = datetime.now().strftime(\"%Y-%m-%d %H:%M:%S\")\n",
    "flattened_data['generated_at'] = current_time\n",
    "\n",
    "df_results = pd.DataFrame([flattened_data])\n",
    "df_results.to_csv('results_2023.csv', index=False)\n",
    "\n",
    "print(\"Results saved to results_2023.csv\")"
   ]
  },
  {
   "cell_type": "markdown",
   "metadata": {},
   "source": []
  }
 ],
 "metadata": {
  "kernelspec": {
   "display_name": ".venv",
   "language": "python",
   "name": "python3"
  },
  "language_info": {
   "codemirror_mode": {
    "name": "ipython",
    "version": 3
   },
   "file_extension": ".py",
   "mimetype": "text/x-python",
   "name": "python",
   "nbconvert_exporter": "python",
   "pygments_lexer": "ipython3",
   "version": "3.13.1"
  }
 },
 "nbformat": 4,
 "nbformat_minor": 2
}
