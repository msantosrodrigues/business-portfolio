{
 "cells": [
  {
   "cell_type": "code",
   "execution_count": 22,
   "metadata": {},
   "outputs": [
    {
     "name": "stdout",
     "output_type": "stream",
     "text": [
      "ETS MAPE: 23.95%\n",
      "WMA MAPE: 0.03%\n",
      "Forecast saved as forecast_2025.csv\n"
     ]
    },
    {
     "name": "stderr",
     "output_type": "stream",
     "text": [
      "/Users/matheus/Documents/criteo_case/.venv/lib/python3.13/site-packages/statsmodels/tsa/base/tsa_model.py:473: ValueWarning: No frequency information was provided, so inferred frequency MS will be used.\n",
      "  self._init_dates(dates, freq)\n",
      "/Users/matheus/Documents/criteo_case/.venv/lib/python3.13/site-packages/statsmodels/tsa/holtwinters/model.py:918: ConvergenceWarning: Optimization failed to converge. Check mle_retvals.\n",
      "  warnings.warn(\n"
     ]
    }
   ],
   "source": [
    "# Re-load necessary libraries\n",
    "import pandas as pd\n",
    "import numpy as np\n",
    "from statsmodels.tsa.holtwinters import ExponentialSmoothing\n",
    "\n",
    "# Define file path\n",
    "file_path = \"data.csv\"\n",
    "\n",
    "# Load the CSV with correct decimal separator and handle percentage column\n",
    "df = pd.read_csv(file_path, delimiter=',', decimal=',', dtype=str)\n",
    "\n",
    "# Convert revenue to numeric (handling European decimal format)\n",
    "df['revenue'] = df['revenue'].str.replace('.', '', regex=False).str.replace(',', '.', regex=False).astype(float)\n",
    "\n",
    "# Convert year and month to integers\n",
    "df['year'] = df['year'].astype(int)\n",
    "df['month'] = df['month'].astype(int)\n",
    "\n",
    "# Convert month_contr to a float (handling percentage format)\n",
    "df['month_contr'] = df['month_contr'].str.replace('%', '', regex=False).str.replace(',', '.').astype(float) / 100\n",
    "\n",
    "# --- STEP 1: ETS FORECASTING ---\n",
    "# Aggregate revenue by year and month\n",
    "train_data = df.groupby(['year', 'month'])['revenue'].sum()\n",
    "\n",
    "# Ensure time index is correctly formatted\n",
    "train_data.index = pd.to_datetime(train_data.index.map(lambda x: f\"{x[0]}-{x[1]:02d}\"))\n",
    "train_data = train_data.sort_index()\n",
    "\n",
    "# Fit the ETS model (without seasonality due to limited data)\n",
    "ets_model = ExponentialSmoothing(train_data, trend='add').fit()\n",
    "\n",
    "# Forecast next 12 months (Full Year 2025)\n",
    "ets_forecast_2025 = ets_model.forecast(12)\n",
    "\n",
    "# --- STEP 2: WEIGHTED MOVING AVERAGE (WMA) FORECASTING ---\n",
    "# Get total revenue of 2024\n",
    "total_revenue_2024 = df[df['year'] == 2024]['revenue'].sum()\n",
    "\n",
    "# Calculate WMA forecast for 2025 using 2024's month contributions\n",
    "# Ensure month_contr contains exactly 12 values for WMA\n",
    "month_contr_2024 = df[df['year'] == 2024].sort_values(by=\"month\")['month_contr'].values\n",
    "\n",
    "# Ensure there are 12 values for month_contr (Jan–Dec)\n",
    "if len(month_contr_2024) != 12:\n",
    "    raise ValueError(f\"Expected 12 month contribution values, but got {len(month_contr_2024)}\")\n",
    "\n",
    "# Calculate WMA forecast for all 12 months of 2025\n",
    "wma_forecast_2025 = total_revenue_2024 * month_contr_2024\n",
    "\n",
    "# Ensure both forecasts are 12 values long\n",
    "if len(ets_forecast_2025) != 12 or len(wma_forecast_2025) != 12:\n",
    "    raise ValueError(\"Forecast arrays are not the same length.\")\n",
    "\n",
    "# --- STEP 3: MAPE CALCULATION ---\n",
    "# Extract actual revenue for 2024 (to compare accuracy)\n",
    "actual_2024 = df[df['year'] == 2024]['revenue'].values\n",
    "\n",
    "# Calculate MAPE for ETS\n",
    "mape_ets = np.mean(np.abs((actual_2024 - ets_forecast_2025) / actual_2024)) * 100 if actual_2024.shape == ets_forecast_2025.shape else None\n",
    "\n",
    "# Calculate MAPE for WMA\n",
    "mape_wma = np.mean(np.abs((actual_2024 - wma_forecast_2025) / actual_2024)) * 100 if actual_2024.shape == wma_forecast_2025.shape else None\n",
    "\n",
    "# --- STEP 4: EXPORT FORECAST TO CSV ---\n",
    "# Prepare final forecast dataframe\n",
    "forecast_df = pd.DataFrame({\n",
    "    'Month': range(1, 13),\n",
    "    'ETS_Forecast': ets_forecast_2025.values,\n",
    "    'WMA_Forecast': wma_forecast_2025\n",
    "})\n",
    "\n",
    "# Save to CSV\n",
    "output_file_path = \"forecast_2025.csv\"\n",
    "forecast_df.to_csv(output_file_path, index=False)\n",
    "\n",
    "# --- STEP 5: DISPLAY RESULTS ---\n",
    "print(f\"ETS MAPE: {mape_ets:.2f}%\" if mape_ets is not None else \"ETS MAPE could not be calculated due to shape mismatch.\")\n",
    "print(f\"WMA MAPE: {mape_wma:.2f}%\" if mape_wma is not None else \"WMA MAPE could not be calculated due to shape mismatch.\")\n",
    "print(f\"Forecast saved as {output_file_path}\")"
   ]
  }
 ],
 "metadata": {
  "kernelspec": {
   "display_name": ".venv",
   "language": "python",
   "name": "python3"
  },
  "language_info": {
   "codemirror_mode": {
    "name": "ipython",
    "version": 3
   },
   "file_extension": ".py",
   "mimetype": "text/x-python",
   "name": "python",
   "nbconvert_exporter": "python",
   "pygments_lexer": "ipython3",
   "version": "3.13.1"
  }
 },
 "nbformat": 4,
 "nbformat_minor": 2
}
